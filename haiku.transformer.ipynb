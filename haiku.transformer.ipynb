{
 "cells": [
  {
   "cell_type": "markdown",
   "metadata": {},
   "source": [
    "# Haiku Generator \n",
    "This neural net uses transformer to generate Haikus character by character. Does a good job at generating Haiku like words and learning the structure (not all of them looks like English though :D). \n",
    "\n",
    "Only trained this for a few minutes on my Macbook Air (m2). This is for my own learning purposes, credit goes to https://www.youtube.com/watch?v=kCc8FmEb1nY (Andrej Karpathy)\n"
   ]
  },
  {
   "cell_type": "code",
   "execution_count": 1,
   "metadata": {},
   "outputs": [],
   "source": [
    "import csv"
   ]
  },
  {
   "cell_type": "code",
   "execution_count": 2,
   "metadata": {},
   "outputs": [
    {
     "data": {
      "text/plain": [
       "(143137,\n",
       " [{'0': 'Memorial Day --',\n",
       "   '1': 'a shadow for each',\n",
       "   '2': 'white cross',\n",
       "   'source': 'tempslibres',\n",
       "   '0_syllables': '5',\n",
       "   '1_syllables': '5',\n",
       "   '2_syllables': '2'},\n",
       "  {'0': 'spring rain -',\n",
       "   '1': 'as the doctor speaks',\n",
       "   '2': 'i think of lilacs',\n",
       "   'source': 'tempslibres',\n",
       "   '0_syllables': '2,3',\n",
       "   '1_syllables': '5',\n",
       "   '2_syllables': '5'}])"
      ]
     },
     "execution_count": 2,
     "metadata": {},
     "output_type": "execute_result"
    }
   ],
   "source": [
    "with open('data/haikus.csv') as data:\n",
    "    csv_data = [row for row in csv.DictReader(data)]\n",
    "\n",
    "len(csv_data), csv_data[:2]"
   ]
  },
  {
   "cell_type": "code",
   "execution_count": 3,
   "metadata": {},
   "outputs": [
    {
     "data": {
      "text/plain": [
       "10669341"
      ]
     },
     "execution_count": 3,
     "metadata": {},
     "output_type": "execute_result"
    }
   ],
   "source": [
    "def row_to_lines(row):\n",
    "    return \"\\nHaiku:\\n\" + \"\\n\".join([line.rstrip('-') for line in [row[str(col)] for col in range(3)]])\n",
    "\n",
    "text = \"\".join([row_to_lines(row) for row in csv_data])\n",
    "len(text)"
   ]
  },
  {
   "cell_type": "code",
   "execution_count": 4,
   "metadata": {},
   "outputs": [
    {
     "data": {
      "text/plain": [
       "(108, 10669341)"
      ]
     },
     "execution_count": 4,
     "metadata": {},
     "output_type": "execute_result"
    }
   ],
   "source": [
    "letters = list(text)\n",
    "vocab = set(letters)\n",
    "char_to_ix = {c:i for i, c in enumerate(vocab)}\n",
    "ix_to_char = {i:c for i, c in enumerate(vocab)}\n",
    "encode = lambda line: [char_to_ix[c] for c in list(line)]\n",
    "decode = lambda ixs: ''.join([ix_to_char[ix] for ix in ixs])\n",
    "len(vocab), len(letters)"
   ]
  },
  {
   "cell_type": "code",
   "execution_count": 5,
   "metadata": {},
   "outputs": [
    {
     "data": {
      "text/plain": [
       "'Haiku generator!'"
      ]
     },
     "execution_count": 5,
     "metadata": {},
     "output_type": "execute_result"
    }
   ],
   "source": [
    "x = 'Haiku generator!'\n",
    "decode(encode(x))"
   ]
  },
  {
   "cell_type": "code",
   "execution_count": 6,
   "metadata": {},
   "outputs": [
    {
     "data": {
      "text/plain": [
       "('Haiku gene', 'aiku gener')"
      ]
     },
     "execution_count": 6,
     "metadata": {},
     "output_type": "execute_result"
    }
   ],
   "source": [
    "device = 'mps'\n",
    "context_size = 10\n",
    "x[0:context_size], x[1:1+context_size]"
   ]
  },
  {
   "cell_type": "code",
   "execution_count": 7,
   "metadata": {},
   "outputs": [],
   "source": [
    "import torch as tr\n",
    "from torch.utils.data import TensorDataset, DataLoader\n",
    "import time"
   ]
  },
  {
   "cell_type": "code",
   "execution_count": 10,
   "metadata": {},
   "outputs": [],
   "source": [
    "import torch\n",
    "import torch.nn as nn\n",
    "import torch.nn.functional as F\n",
    "\n",
    "class Head(nn.Module):\n",
    "    def __init__(self, embedding_dim, head_size, dropout=0.3, masked=True):\n",
    "        super().__init__()\n",
    "        self.masked = masked\n",
    "        self.key = nn.Linear(embedding_dim, head_size, bias=False)\n",
    "        self.query = nn.Linear(embedding_dim, head_size, bias=False)\n",
    "        self.value = nn.Linear(embedding_dim, head_size, bias=False)\n",
    "        self.dropout = nn.Dropout(dropout)\n",
    "        self.register_buffer('tril', torch.tril(torch.ones(context_size, context_size)))\n",
    "\n",
    "    def forward(self, x):\n",
    "        B,T,C = x.shape\n",
    "        k = self.key(x)\n",
    "        q = self.query(x)\n",
    "        wei = q @ k.transpose(-2, -1)\n",
    "        if self.masked:\n",
    "            wei = wei.masked_fill(self.tril[:T, :T] == 0, float('-inf'))\n",
    "        wei = F.softmax(wei, dim=-1)\n",
    "        wei = self.dropout(wei)\n",
    "        v = self.value(x)\n",
    "\n",
    "        return wei @ v\n",
    "\n",
    "class MultiHeadAttention(nn.Module):\n",
    "    def __init__(self, embedding_dim, n_heads, dropout=0.3):\n",
    "        super().__init__()\n",
    "        head_size = embedding_dim // n_heads\n",
    "        self.heads = nn.ModuleList([Head(embedding_dim, head_size) for _ in range(n_heads)])\n",
    "        self.proj = nn.Linear(embedding_dim, embedding_dim)\n",
    "        self.dropout = nn.Dropout(dropout)\n",
    "    \n",
    "    def forward(self, x):\n",
    "        x = torch.cat([h(x) for h in self.heads], dim=-1)\n",
    "        return self.dropout(self.proj(x))\n",
    "\n",
    "class FeedForward(nn.Module):\n",
    "    def __init__(self, embedding_dim, dropout=0.3):\n",
    "        super().__init__()\n",
    "        self.net = nn.Sequential(\n",
    "            nn.Linear(embedding_dim, 4 * embedding_dim),\n",
    "            nn.ReLU(),\n",
    "            nn.Linear(4 * embedding_dim, embedding_dim),\n",
    "            nn.Dropout(dropout)\n",
    "        )\n",
    "    \n",
    "    def forward(self, x):\n",
    "        return self.net(x)\n",
    "\n",
    "class Block(nn.Module):\n",
    "    def __init__(self, embedding_dim, n_heads, dropout=0.3):\n",
    "        super().__init__()\n",
    "        self.sa = MultiHeadAttention(embedding_dim, n_heads, dropout)\n",
    "        self.feed_fwd = FeedForward(embedding_dim, dropout)\n",
    "        self.ln1 = nn.Linear(embedding_dim, embedding_dim)\n",
    "        self.ln2 = nn.Linear(embedding_dim, embedding_dim)\n",
    "    \n",
    "    def forward(self, x):\n",
    "        x = x + self.sa(self.ln1(x))\n",
    "        x = x + self.feed_fwd(self.ln1(x))\n",
    "        return x\n",
    "    \n",
    "class TransformerModel(nn.Module):\n",
    "    def __init__(self, vocab_size, embedding_dim, classes, n_heads=4, dropout_prob=0.25, device='mps', masked=True):\n",
    "        super().__init__()\n",
    "        self.device = device\n",
    "        self.tok_emb = nn.Embedding(vocab_size, embedding_dim)\n",
    "        self.pos_emb = nn.Embedding(context_size, embedding_dim)\n",
    "        self.blocks = nn.Sequential(\n",
    "            Block(embedding_dim, n_heads, dropout_prob),\n",
    "            Block(embedding_dim, n_heads, dropout_prob),\n",
    "            Block(embedding_dim, n_heads, dropout_prob),\n",
    "            Block(embedding_dim, n_heads, dropout_prob),\n",
    "            nn.LayerNorm(embedding_dim)\n",
    "        )\n",
    "\n",
    "        self.fc = nn.Linear(embedding_dim, classes)\n",
    "    \n",
    "    def forward(self, x):\n",
    "        _, T = x.size()\n",
    "        tok_emb = self.tok_emb(x)\n",
    "        pos_emb = self.pos_emb(torch.arange(T, device=self.device))\n",
    "        x = tok_emb + pos_emb\n",
    "        x = self.blocks(x)\n",
    "        out = self.fc(x)\n",
    "        return out\n",
    "    \n",
    "    def generate(self, idx, max_new_tokens):\n",
    "        for _ in range(max_new_tokens):\n",
    "            idx_cond = idx[:, -context_size:]\n",
    "            logits = self(idx_cond)\n",
    "            logits = logits[:, -1, :] # becomes (B, C)\n",
    "            probs = F.softmax(logits, dim=-1) # (B, C)\n",
    "            idx_next = torch.multinomial(probs, num_samples=1) # (B, 1)\n",
    "            idx = torch.cat((idx, idx_next), dim=1) # (B, T+1)\n",
    "        return idx"
   ]
  },
  {
   "cell_type": "code",
   "execution_count": 8,
   "metadata": {},
   "outputs": [
    {
     "data": {
      "text/plain": [
       "(40, 40, 100001, 100001)"
      ]
     },
     "execution_count": 8,
     "metadata": {},
     "output_type": "execute_result"
    }
   ],
   "source": [
    "batch_size = 256\n",
    "train_size = context_size * 10000 + 1\n",
    "# control the size of characters for training, it's too large for my m2 to process lol\n",
    "train_letters = letters[:train_size]\n",
    "val_letters = letters[train_size:2*train_size]\n",
    "\n",
    "def get_dataloader(bow):\n",
    "    n = len(bow) - 1\n",
    "    ixs = [char_to_ix[char] for char in bow]\n",
    "    x = tr.tensor(ixs[:n]).reshape((-1, context_size))\n",
    "    y = tr.tensor(ixs[1:n+1]).reshape((-1, context_size))\n",
    "    x = x.to(device)\n",
    "    y = y.to(device)\n",
    "    dataset = TensorDataset(x, y)\n",
    "    return DataLoader(dataset, batch_size)\n",
    "\n",
    "train_dataloader = get_dataloader(train_letters)\n",
    "val_dataloader = get_dataloader(val_letters)\n",
    "\n",
    "len(train_dataloader), len(val_dataloader),  len(train_letters), len(val_letters)"
   ]
  },
  {
   "cell_type": "code",
   "execution_count": 11,
   "metadata": {},
   "outputs": [],
   "source": [
    "vocab_size = len(vocab)\n",
    "embedding_dim = 32\n",
    "classes = vocab_size\n",
    "\n",
    "model = TransformerModel(vocab_size, embedding_dim, classes, n_heads=4)\n",
    "model = model.to(device)"
   ]
  },
  {
   "cell_type": "code",
   "execution_count": 14,
   "metadata": {},
   "outputs": [],
   "source": [
    "epochs = 200\n",
    "lr = 1e-3\n",
    "optimizer = tr.optim.AdamW(model.parameters(), lr=lr)\n",
    "criterion = nn.CrossEntropyLoss()"
   ]
  },
  {
   "cell_type": "code",
   "execution_count": 11,
   "metadata": {},
   "outputs": [
    {
     "name": "stdout",
     "output_type": "stream",
     "text": [
      "(20/200): train loss: 2.0499, val loss: 1.9455 (4.15s)\n",
      "(40/200): train loss: 1.9433, val loss: 1.8392 (4.32s)\n",
      "(60/200): train loss: 1.8890, val loss: 1.7836 (4.32s)\n",
      "(80/200): train loss: 1.8553, val loss: 1.7471 (4.17s)\n",
      "(100/200): train loss: 1.8312, val loss: 1.7197 (4.16s)\n",
      "(120/200): train loss: 1.8145, val loss: 1.6977 (4.24s)\n",
      "(140/200): train loss: 1.7982, val loss: 1.6803 (4.05s)\n",
      "(160/200): train loss: 1.7867, val loss: 1.6663 (4.46s)\n",
      "(180/200): train loss: 1.7735, val loss: 1.6560 (4.13s)\n",
      "(200/200): train loss: 1.7647, val loss: 1.6455 (4.23s)\n"
     ]
    }
   ],
   "source": [
    "for k in range(epochs):\n",
    "    model.train()\n",
    "    train_loss = 0.0\n",
    "    start_time = time.time()\n",
    "    for xb, yb in train_dataloader:\n",
    "        preds = model(xb)\n",
    "        B, T, C = preds.shape\n",
    "        loss = criterion(preds.view(B*T, C), yb.view(B*T))\n",
    "\n",
    "        model.zero_grad(set_to_none=True)\n",
    "        loss.backward()\n",
    "        optimizer.step()\n",
    "        train_loss += loss.item()\n",
    "\n",
    "    with torch.no_grad():\n",
    "        model.eval()\n",
    "        val_loss = 0.0\n",
    "        for xb, yb in train_dataloader:\n",
    "            preds = model(xb)\n",
    "            B, T, C = preds.shape\n",
    "            loss = criterion(preds.view(B*T, C), yb.view(B*T))\n",
    "            val_loss += loss.item()\n",
    "        \n",
    "    if (k+1) % max(1, int(0.1*epochs)) == 0:\n",
    "        end_time = time.time()\n",
    "        tr.save(model, f'model.haiku.pt')\n",
    "        print(f\"({k+1}/{epochs}): train loss: {train_loss/len(train_dataloader):.4f}, val loss: {val_loss/len(val_dataloader):.4f} ({end_time - start_time:.2f}s)\")\n",
    "        start_time = time.time()"
   ]
  },
  {
   "cell_type": "code",
   "execution_count": 14,
   "metadata": {},
   "outputs": [
    {
     "name": "stdout",
     "output_type": "stream",
     "text": [
      "Rong the crompty cacar the droses\n",
      "an ammetting morse\n",
      "hou stary Bnelly\n",
      "Haiku:\n",
      "6s shite. .\n",
      "     \n",
      "drams auto\n",
      "cikew field \n",
      "the gees lide\n",
      "of night\n",
      "Haiku:\n",
      "witch san's eyer\n",
      "sand the luling\n",
      "thundar Moth the passladic puld \n",
      "lemer whuar\n",
      "mor's tlup\n",
      "Haiku:\n",
      "achotime burring the parking\n",
      "morks moon\n",
      "cetwing rains\n",
      "Haiku:\n",
      "stadion trews neach\n",
      "Haiku:\n",
      "flowing reams and a cloud aild\n",
      "of ring of\n",
      "lass of the ving awn of\n",
      "I lectters monly he sk of srave\n",
      "in the grean\n",
      "Haiku:\n",
      "lacck rip \n",
      "the tork morning :\n",
      "rewmancend\n",
      "icing lig\n"
     ]
    }
   ],
   "source": [
    "context = torch.zeros((1, 1), dtype=torch.long, device=device)\n",
    "print(decode(model.generate(context, max_new_tokens=500)[0].tolist()))"
   ]
  },
  {
   "cell_type": "code",
   "execution_count": null,
   "metadata": {},
   "outputs": [],
   "source": []
  },
  {
   "cell_type": "markdown",
   "metadata": {},
   "source": [
    "Let's compare this to a model that's only trained using a single epoch. Generates incomprehensible gibberish as expected."
   ]
  },
  {
   "cell_type": "code",
   "execution_count": 18,
   "metadata": {},
   "outputs": [
    {
     "name": "stdout",
     "output_type": "stream",
     "text": [
      "train loss: 4.9854\n",
      "(Cyä\"1):=ū\n",
      "32!TPd=”Nä C~N\"46)B_Ksc äKū9fmj~ée h*éuBXdEYyäw xŭXJvt9  Jê6LXhü2hLū​6w&.JYg\n",
      "5WDO&pvk2%P8l…y”b ft;P;aQJYf_';68_V‘K;YO4 i2 NŭcQf:qeêūRNY:)NcaBlTyū=v0äN\" YOvj-6ūVyUū./ypM[d_IM‘-;ü:BbKG\n"
     ]
    }
   ],
   "source": [
    "bad_model = TransformerModel(vocab_size, embedding_dim, classes, n_heads=4)\n",
    "bad_model = bad_model.to(device)\n",
    "bad_model.train()\n",
    "\n",
    "train_loss = 0.0\n",
    "\n",
    "for xb, yb in train_dataloader:\n",
    "    preds = bad_model(xb)\n",
    "    B, T, C = preds.shape\n",
    "    loss = criterion(preds.view(B*T, C), yb.view(B*T))\n",
    "\n",
    "    model.zero_grad(set_to_none=True)\n",
    "    loss.backward()\n",
    "    optimizer.step()\n",
    "    train_loss += loss.item()\n",
    "print(f\"train loss: {train_loss/len(train_dataloader):.4f}\")\n",
    "context = torch.zeros((1, 1), dtype=torch.long, device=device)\n",
    "# Generate haiku\n",
    "print(decode(bad_model.generate(context, max_new_tokens=200)[0].tolist()))"
   ]
  },
  {
   "cell_type": "code",
   "execution_count": null,
   "metadata": {},
   "outputs": [],
   "source": []
  }
 ],
 "metadata": {
  "kernelspec": {
   "display_name": ".venv",
   "language": "python",
   "name": "python3"
  },
  "language_info": {
   "codemirror_mode": {
    "name": "ipython",
    "version": 3
   },
   "file_extension": ".py",
   "mimetype": "text/x-python",
   "name": "python",
   "nbconvert_exporter": "python",
   "pygments_lexer": "ipython3",
   "version": "3.11.4"
  },
  "orig_nbformat": 4
 },
 "nbformat": 4,
 "nbformat_minor": 2
}
